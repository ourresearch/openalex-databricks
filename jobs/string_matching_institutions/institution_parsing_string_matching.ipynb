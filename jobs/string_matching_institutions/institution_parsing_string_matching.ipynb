{
 "cells": [
  {
   "cell_type": "code",
   "execution_count": 0,
   "metadata": {
    "application/vnd.databricks.v1+cell": {
     "cellMetadata": {
      "byteLimit": 2048000,
      "rowLimit": 10000
     },
     "inputWidgets": {},
     "nuid": "44920190-9120-4ae8-858f-14f52b073315",
     "showTitle": false,
     "tableResultSettingsMap": {},
     "title": ""
    }
   },
   "outputs": [],
   "source": [
    "import pickle\n",
    "import boto3\n",
    "import datetime\n",
    "import re\n",
    "import json\n",
    "import pandas as pd\n",
    "pd.set_option('display.max_rows', 100)\n",
    "pd.set_option('display.max_colwidth', None)\n",
    "import numpy as np\n",
    "import unicodedata\n",
    "import matplotlib.pyplot as plt\n",
    "from unidecode import unidecode\n",
    "import random\n",
    "import heroku3\n",
    "import psycopg2"
   ]
  },
  {
   "cell_type": "code",
   "execution_count": 0,
   "metadata": {
    "application/vnd.databricks.v1+cell": {
     "cellMetadata": {
      "byteLimit": 2048000,
      "rowLimit": 10000
     },
     "inputWidgets": {},
     "nuid": "2ba961a2-7e64-4844-8d78-c47e5f47c752",
     "showTitle": false,
     "tableResultSettingsMap": {},
     "title": ""
    }
   },
   "outputs": [],
   "source": [
    "from pyspark.sql import functions as F\n",
    "from pyspark.sql.window import Window\n",
    "from pyspark.sql.types import IntegerType, StringType, FloatType, ArrayType, DoubleType, StructType, StructField,LongType,TimestampType"
   ]
  },
  {
   "cell_type": "code",
   "execution_count": 0,
   "metadata": {
    "application/vnd.databricks.v1+cell": {
     "cellMetadata": {},
     "inputWidgets": {},
     "nuid": "91795902-b578-4a97-b810-bfef0ededbf8",
     "showTitle": false,
     "tableResultSettingsMap": {},
     "title": ""
    }
   },
   "outputs": [],
   "source": [
    "from changing_affs import matching_based_on_current_affs\n",
    "from institution_string_matching import string_matching_function\n",
    "\n",
    "# create udfs\n",
    "matching_based_on_current_affs_udf = F.udf(matching_based_on_current_affs, ArrayType(LongType()))\n",
    "string_matching_function_udf = F.udf(string_matching_function, ArrayType(LongType()))"
   ]
  },
  {
   "cell_type": "markdown",
   "metadata": {
    "application/vnd.databricks.v1+cell": {
     "cellMetadata": {},
     "inputWidgets": {},
     "nuid": "47f9abef-de4b-45bd-8d74-3d30740105f2",
     "showTitle": false,
     "tableResultSettingsMap": {},
     "title": ""
    }
   },
   "source": [
    "### Getting all data"
   ]
  },
  {
   "cell_type": "code",
   "execution_count": 0,
   "metadata": {
    "application/vnd.databricks.v1+cell": {
     "cellMetadata": {
      "byteLimit": 2048000,
      "rowLimit": 10000
     },
     "collapsed": true,
     "inputWidgets": {},
     "nuid": "4f57e76b-c02e-459b-b775-d11ba7ffebd9",
     "showTitle": false,
     "tableResultSettingsMap": {},
     "title": ""
    }
   },
   "outputs": [],
   "source": [
    "def get_secret(secret_name = \"prod/psqldb/conn_string\"):\n",
    "    region_name = \"us-east-1\"\n",
    "\n",
    "    # Create a Secrets Manager client\n",
    "    session = boto3.session.Session()\n",
    "    client = session.client(\n",
    "        service_name='secretsmanager',\n",
    "        region_name=region_name\n",
    "    )\n",
    "\n",
    "    \n",
    "    get_secret_value_response = client.get_secret_value(\n",
    "            SecretId=secret_name)\n",
    "\n",
    "    # Decrypts secret using the associated KMS key.\n",
    "    secret_string = get_secret_value_response['SecretString']\n",
    "    \n",
    "    secret = json.loads(secret_string)\n",
    "    return secret\n",
    "\n",
    "def shutdown_dynos(heroku_secret_token, dynos_to_stop):\n",
    "    heroku_conn = heroku3.from_key(heroku_secret_token)\n",
    "    app = heroku_conn.app(\"openalex-guts\")\n",
    "    current_quantities = []\n",
    "\n",
    "    for dyno_name in dynos_to_stop:\n",
    "        current_quantities.append(app.process_formation()[dyno_name].quantity)\n",
    "        app.process_formation()[dyno_name].scale(0)\n",
    "    return current_quantities\n",
    "\n",
    "def restart_dynos(heroku_secret_token, dynos_to_stop, old_quantities):\n",
    "    heroku_conn = heroku3.from_key(heroku_secret_token)\n",
    "    app = heroku_conn.app(\"openalex-guts\")\n",
    "\n",
    "    for dyno_name, dyno_quantity in zip(dynos_to_stop, old_quantities):\n",
    "        app.process_formation()[dyno_name].scale(dyno_quantity)\n",
    "\n",
    "def connect_to_db():\n",
    "    secret = get_secret()\n",
    "    conn = psycopg2.connect( \n",
    "        host=secret['host'],\n",
    "        port=secret['port'],\n",
    "        user=secret['username'],\n",
    "        password=secret['password'],\n",
    "        database=secret['dbname']\n",
    "    )\n",
    "    return conn"
   ]
  },
  {
   "cell_type": "code",
   "execution_count": 0,
   "metadata": {
    "application/vnd.databricks.v1+cell": {
     "cellMetadata": {
      "byteLimit": 2048000,
      "rowLimit": 10000
     },
     "inputWidgets": {},
     "nuid": "c5a6aa86-eaa6-4814-a809-95f1a454002f",
     "showTitle": false,
     "tableResultSettingsMap": {},
     "title": ""
    }
   },
   "outputs": [],
   "source": [
    "secret = get_secret()\n",
    "buckets = get_secret(\"prod/aws/buckets\")\n",
    "heroku_secret = get_secret(secret_name = \"prod/heroku/oauth\")"
   ]
  },
  {
   "cell_type": "code",
   "execution_count": 0,
   "metadata": {
    "application/vnd.databricks.v1+cell": {
     "cellMetadata": {
      "byteLimit": 2048000,
      "rowLimit": 10000
     },
     "inputWidgets": {},
     "nuid": "91e0d8ed-8dba-432d-b896-4ca9ef5ea4f5",
     "showTitle": false,
     "tableResultSettingsMap": {},
     "title": ""
    }
   },
   "outputs": [],
   "source": [
    "database_copy_save_path = f\"{buckets['database_copy_save_path']}\"\n",
    "start_datetime = datetime.datetime.now()\n",
    "curr_date = start_datetime.strftime(\"%Y_%m_%d_%H_%M\")\n",
    "# curr_date = '2024_07_14_23_18'\n",
    "iteration_save_path = f\"{buckets['temp_save_path']}/institution_fixes_{curr_date}/\""
   ]
  },
  {
   "cell_type": "code",
   "execution_count": 0,
   "metadata": {
    "application/vnd.databricks.v1+cell": {
     "cellMetadata": {
      "byteLimit": 2048000,
      "rowLimit": 10000
     },
     "inputWidgets": {},
     "nuid": "b20cbf67-13db-4946-83e4-0fa105e544b0",
     "showTitle": false,
     "tableResultSettingsMap": {},
     "title": ""
    }
   },
   "outputs": [],
   "source": [
    "institutions = spark.read.parquet(f\"{database_copy_save_path}/mid/institution\")\\\n",
    "    .filter(F.col('merge_into_id').isNull()).filter(F.col('created_date').startswith('2024-')) \\\n",
    "    .select('affiliation_id','ror_id','display_name')"
   ]
  },
  {
   "cell_type": "code",
   "execution_count": 0,
   "metadata": {
    "application/vnd.databricks.v1+cell": {
     "cellMetadata": {
      "byteLimit": 2048000,
      "rowLimit": 10000
     },
     "inputWidgets": {},
     "nuid": "40554c35-6d2d-475a-b893-dffd92e6a744",
     "showTitle": false,
     "tableResultSettingsMap": {},
     "title": ""
    }
   },
   "outputs": [],
   "source": [
    "spark.read.parquet(f\"{database_copy_save_path}/mid/institution\").filter(F.col('merge_into_id').isNull()).select('affiliation_id','ror_id','display_name') \\\n",
    "    .toPandas().to_parquet(\"institutions_current.parquet\")"
   ]
  },
  {
   "cell_type": "code",
   "execution_count": 0,
   "metadata": {
    "application/vnd.databricks.v1+cell": {
     "cellMetadata": {
      "byteLimit": 2048000,
      "rowLimit": 10000
     },
     "inputWidgets": {},
     "nuid": "df2d9c2d-7da6-42ec-aafc-eaa9f9358cf5",
     "showTitle": false,
     "tableResultSettingsMap": {},
     "title": ""
    }
   },
   "outputs": [],
   "source": [
    "affiliations = spark.read.parquet(f\"{database_copy_save_path}/mid/affiliation\") \\\n",
    "    .select('paper_id','affiliation_id').dropDuplicates() \\\n",
    "    .join(institutions, how='inner', on='affiliation_id')"
   ]
  },
  {
   "cell_type": "markdown",
   "metadata": {
    "application/vnd.databricks.v1+cell": {
     "cellMetadata": {},
     "inputWidgets": {},
     "nuid": "abcd8cc5-de9b-4ae9-8578-d5b63bc96590",
     "showTitle": false,
     "tableResultSettingsMap": {},
     "title": ""
    }
   },
   "source": [
    "#### Functions"
   ]
  },
  {
   "cell_type": "code",
   "execution_count": 0,
   "metadata": {
    "application/vnd.databricks.v1+cell": {
     "cellMetadata": {
      "byteLimit": 2048000,
      "rowLimit": 10000
     },
     "inputWidgets": {},
     "nuid": "c3f368f4-23a1-48de-a3d6-b2e5cc9fd347",
     "showTitle": false,
     "tableResultSettingsMap": {},
     "title": ""
    }
   },
   "outputs": [],
   "source": [
    "@udf(returnType=ArrayType(LongType()))\n",
    "def join_aff_id_cols(aff_ids, over_aff_ids):\n",
    "    if isinstance(aff_ids, list):\n",
    "        if isinstance(over_aff_ids, list):\n",
    "            if (-1 in over_aff_ids) & (len(over_aff_ids) > 1):\n",
    "                return [x for x in over_aff_ids if x != -1].copy()\n",
    "            elif -1 in over_aff_ids:\n",
    "                return over_aff_ids.copy()\n",
    "            elif (len(over_aff_ids) > 0) & (isinstance(over_aff_ids[0], int)):\n",
    "                return over_aff_ids.copy()\n",
    "            else:\n",
    "                return aff_ids\n",
    "        else:\n",
    "            return aff_ids\n",
    "    else:\n",
    "        return [-1]"
   ]
  },
  {
   "cell_type": "markdown",
   "metadata": {
    "application/vnd.databricks.v1+cell": {
     "cellMetadata": {},
     "inputWidgets": {},
     "nuid": "ef919132-ffd9-4fe2-a251-a0fca114d38a",
     "showTitle": false,
     "tableResultSettingsMap": {},
     "title": ""
    }
   },
   "source": [
    "#### Downloading table for fixing"
   ]
  },
  {
   "cell_type": "code",
   "execution_count": 0,
   "metadata": {
    "application/vnd.databricks.v1+cell": {
     "cellMetadata": {
      "byteLimit": 2048000,
      "rowLimit": 10000
     },
     "inputWidgets": {},
     "nuid": "304675df-12f6-4352-bf39-75a4b3859668",
     "showTitle": false,
     "tableResultSettingsMap": {},
     "title": ""
    }
   },
   "outputs": [],
   "source": [
    "testing = # read from redshift"
   ]
  },
  {
   "cell_type": "code",
   "execution_count": 0,
   "metadata": {
    "application/vnd.databricks.v1+cell": {
     "cellMetadata": {
      "byteLimit": 2048000,
      "rowLimit": 10000
     },
     "inputWidgets": {},
     "nuid": "61166f7c-fdc7-4f4d-8634-e46d043d80db",
     "showTitle": false,
     "tableResultSettingsMap": {},
     "title": ""
    }
   },
   "outputs": [],
   "source": [
    "testing.count()"
   ]
  },
  {
   "cell_type": "code",
   "execution_count": 0,
   "metadata": {
    "application/vnd.databricks.v1+cell": {
     "cellMetadata": {
      "byteLimit": 2048000,
      "rowLimit": 10000
     },
     "inputWidgets": {},
     "nuid": "e6e879a5-017b-4dd3-9096-e7810c815e9e",
     "showTitle": false,
     "tableResultSettingsMap": {},
     "title": ""
    }
   },
   "outputs": [],
   "source": [
    "testing \\\n",
    "    .write.mode('overwrite') \\\n",
    "    .parquet(f\"{database_copy_save_path}/mid/affiliation_string_v2\")"
   ]
  },
  {
   "cell_type": "code",
   "execution_count": 0,
   "metadata": {
    "application/vnd.databricks.v1+cell": {
     "cellMetadata": {
      "byteLimit": 2048000,
      "rowLimit": 10000
     },
     "inputWidgets": {},
     "nuid": "55682e91-fb21-48e1-bf39-14fd3fcae797",
     "showTitle": false,
     "tableResultSettingsMap": {},
     "title": ""
    }
   },
   "outputs": [],
   "source": [
    "aff_string_table = spark.read.parquet(f\"{database_copy_save_path}/mid/affiliation_string_v2\") \\\n",
    "        .na.fill('[-1]', subset=['affiliation_ids']) \\\n",
    "    .na.fill('[]', subset=['affiliation_ids_override']) \\\n",
    "    .withColumn('new_affiliation_ids', F.regexp_replace(F.col(\"affiliation_ids\"), \" \", \"\")) \\\n",
    "    .withColumn('new_affiliation_ids', F.split(F.split(F.col('new_affiliation_ids'), '\\[').getItem(1), '\\]').getItem(0)) \\\n",
    "    .withColumn('new_affiliation_ids', F.split(F.col('new_affiliation_ids'), ',')) \\\n",
    "    .withColumn('new_affiliation_ids_override', \n",
    "                F.regexp_replace(F.col(\"affiliation_ids_override\"), \" \", \"\")) \\\n",
    "    .withColumn('new_affiliation_ids_override', \n",
    "                F.split(F.split(F.col('new_affiliation_ids_override'), '\\[').getItem(1), '\\]').getItem(0)) \\\n",
    "    .withColumn('new_affiliation_ids_override', F.split(F.col('new_affiliation_ids_override'), ',')) \\\n",
    "    .select('original_affiliation',F.col('new_affiliation_ids').cast(ArrayType(LongType())).alias('affiliation_ids'),\n",
    "            F.col('new_affiliation_ids_override').cast(ArrayType(LongType())).alias('affiliation_ids_override')) \\\n",
    "    .dropDuplicates(subset=['original_affiliation']) \\\n",
    "    .withColumn('current_affs', join_aff_id_cols(F.col('affiliation_ids'), \n",
    "                                                             F.col('affiliation_ids_override')))\n",
    "    \n",
    "aff_string_table.cache().count()"
   ]
  },
  {
   "cell_type": "markdown",
   "metadata": {
    "application/vnd.databricks.v1+cell": {
     "cellMetadata": {},
     "inputWidgets": {},
     "nuid": "75dd7780-60d2-4e03-b2a9-dbf3a68caf18",
     "showTitle": false,
     "tableResultSettingsMap": {},
     "title": ""
    }
   },
   "source": [
    "#### Running the string matching functions"
   ]
  },
  {
   "cell_type": "code",
   "execution_count": 0,
   "metadata": {
    "application/vnd.databricks.v1+cell": {
     "cellMetadata": {
      "byteLimit": 2048000,
      "rowLimit": 10000
     },
     "collapsed": true,
     "inputWidgets": {},
     "nuid": "b3f5d9af-c1f4-4586-8ba9-caf4955b08fd",
     "showTitle": false,
     "tableResultSettingsMap": {},
     "title": ""
    }
   },
   "outputs": [],
   "source": [
    "@udf(returnType=IntegerType())\n",
    "def check_for_change(aff_ids, over_aff_ids):\n",
    "    curr_set = set(aff_ids)\n",
    "    new_set = set(over_aff_ids)\n",
    "    if curr_set == new_set:\n",
    "        return 0\n",
    "    elif (len(curr_set) == 1) and (len(new_set) == 1) and (not isinstance(list(curr_set)[0], int)) and (list(over_aff_ids)[0]==-1):\n",
    "        return 0\n",
    "    else:\n",
    "        return 1"
   ]
  },
  {
   "cell_type": "code",
   "execution_count": 0,
   "metadata": {
    "application/vnd.databricks.v1+cell": {
     "cellMetadata": {
      "byteLimit": 2048000,
      "rowLimit": 10000
     },
     "collapsed": true,
     "inputWidgets": {},
     "nuid": "d403ad3f-7c8a-4c07-8ab9-3d8a960b54ac",
     "showTitle": false,
     "tableResultSettingsMap": {},
     "title": ""
    }
   },
   "outputs": [],
   "source": [
    "@udf(returnType=ArrayType(LongType()))\n",
    "def remove_negative_1(aff_ids):\n",
    "    new_aff_ids = [x for x in aff_ids if isinstance(x, int)].copy()\n",
    "    if (-1 in new_aff_ids) & (len(new_aff_ids) > 1):\n",
    "        return [x for x in new_aff_ids if x != -1].copy()\n",
    "    elif not new_aff_ids:\n",
    "        return [-1]\n",
    "    else:\n",
    "        return new_aff_ids.copy()"
   ]
  },
  {
   "cell_type": "code",
   "execution_count": 0,
   "metadata": {
    "application/vnd.databricks.v1+cell": {
     "cellMetadata": {
      "byteLimit": 2048000,
      "rowLimit": 10000
     },
     "inputWidgets": {},
     "nuid": "3fc953a4-4c7e-4c82-95ad-dfb0e5d1a49d",
     "showTitle": false,
     "tableResultSettingsMap": {},
     "title": ""
    }
   },
   "outputs": [],
   "source": [
    "aff_string_table \\\n",
    "    .withColumn('add_affs_1', string_matching_function_udf(F.col('original_affiliation'))) \\\n",
    "    .withColumn('temp_affs', F.array_distinct(F.array_union(F.col('add_affs_1'), F.col('current_affs')))) \\\n",
    "    .withColumn('temp_affs_1', remove_negative_1(F.col('temp_affs'))) \\\n",
    "    .withColumn('affs_removed', matching_based_on_current_affs_udf(F.col('temp_affs_1'), F.col('original_affiliation'))) \\\n",
    "    .withColumn('temp_affs_2', remove_negative_1(F.col('affs_removed'))) \\\n",
    "    .withColumn('row_changed', check_for_change(F.col('current_affs'), F.col('temp_affs_2'))) \\\n",
    "    .filter(F.col('row_changed')==1) \\\n",
    "    .select('original_affiliation', 'current_affs', F.col('temp_affs_2').alias('affiliation_ids_override')) \\\n",
    "    .write.mode('overwrite')\\\n",
    "    .parquet(f\"{iteration_save_path}strings_for_v2_table_dist/\")"
   ]
  },
  {
   "cell_type": "code",
   "execution_count": 0,
   "metadata": {
    "application/vnd.databricks.v1+cell": {
     "cellMetadata": {
      "byteLimit": 2048000,
      "rowLimit": 10000
     },
     "inputWidgets": {},
     "nuid": "3bce77fc-a4d9-4202-a059-0133d94f1735",
     "showTitle": false,
     "tableResultSettingsMap": {},
     "title": ""
    }
   },
   "outputs": [],
   "source": [
    "final_counts_data = spark.read.parquet(f\"{iteration_save_path}strings_for_v2_table_dist/\")\n",
    "final_counts_data.cache().count()"
   ]
  },
  {
   "cell_type": "markdown",
   "metadata": {
    "application/vnd.databricks.v1+cell": {
     "cellMetadata": {},
     "inputWidgets": {},
     "nuid": "beb57167-0c38-4dc6-9c6c-c1e4c5865bff",
     "showTitle": false,
     "tableResultSettingsMap": {},
     "title": ""
    }
   },
   "source": [
    "### Updating override table and putting works in most_things queue"
   ]
  },
  {
   "cell_type": "code",
   "execution_count": 0,
   "metadata": {
    "application/vnd.databricks.v1+cell": {
     "cellMetadata": {
      "byteLimit": 2048000,
      "rowLimit": 10000
     },
     "inputWidgets": {},
     "nuid": "b57d7e2b-b4a5-401b-92b6-b6a9bee97924",
     "showTitle": false,
     "tableResultSettingsMap": {},
     "title": ""
    }
   },
   "outputs": [],
   "source": [
    "@udf(returnType=StringType())\n",
    "def process_block_affiliation_change(block):\n",
    "    conn_part = connect_to_db()\n",
    "\n",
    "    cur_part = conn_part.cursor()\n",
    "\n",
    "    for row in block:\n",
    "        _ = process_row_affiliation_change(conn_part, cur_part, row[0], row[1])\n",
    "\n",
    "    cur_part.close()\n",
    "    conn_part.close()\n",
    "\n",
    "def process_row_affiliation_change(connection, curs_update, aff_string, aff_ids):\n",
    "    dt = datetime.datetime.now(datetime.timezone.utc)\n",
    "    val = (dt, aff_string)\n",
    "    sql_string = f\"\"\"UPDATE mid.affiliation_string_v2 SET affiliation_ids_override = jsonb_build_array({aff_ids}), updated = %s WHERE original_affiliation = %s\"\"\"\n",
    "\n",
    "    try:\n",
    "        curs_update.execute(sql_string, val)\n",
    "        connection.commit()\n",
    "    except:\n",
    "        print(\"Error while updating row in PostgreSQL:\", val)\n",
    "        connection.rollback()"
   ]
  },
  {
   "cell_type": "code",
   "execution_count": 0,
   "metadata": {
    "application/vnd.databricks.v1+cell": {
     "cellMetadata": {
      "byteLimit": 2048000,
      "rowLimit": 10000
     },
     "inputWidgets": {},
     "nuid": "6dd19173-c2ce-4dc5-a879-2a0f4872a1d4",
     "showTitle": false,
     "tableResultSettingsMap": {},
     "title": ""
    }
   },
   "outputs": [],
   "source": [
    "strings_to_change = spark.read.parquet(f\"{iteration_save_path}strings_for_v2_table_dist/\")"
   ]
  },
  {
   "cell_type": "code",
   "execution_count": 0,
   "metadata": {
    "application/vnd.databricks.v1+cell": {
     "cellMetadata": {
      "byteLimit": 2048000,
      "rowLimit": 10000
     },
     "inputWidgets": {},
     "nuid": "d9eabae0-72cd-48c7-9622-6d8aaf1381ec",
     "showTitle": false,
     "tableResultSettingsMap": {},
     "title": ""
    }
   },
   "outputs": [],
   "source": [
    "strings_to_change_rand_int = int(strings_to_change.count()/200)"
   ]
  },
  {
   "cell_type": "code",
   "execution_count": 0,
   "metadata": {
    "application/vnd.databricks.v1+cell": {
     "cellMetadata": {
      "byteLimit": 2048000,
      "rowLimit": 10000
     },
     "inputWidgets": {},
     "nuid": "fea259c6-e35e-4406-aba7-edcfe9790cbe",
     "showTitle": false,
     "tableResultSettingsMap": {},
     "title": ""
    }
   },
   "outputs": [],
   "source": [
    "strings_changed = strings_to_change \\\n",
    "    .select('original_affiliation', F.concat_ws(\",\", F.col('affiliation_ids_override')).alias('affiliation_ids_override')) \\\n",
    "    .select(F.array([F.col('original_affiliation'), F.col('affiliation_ids_override')]).alias('data_to_update')) \\\n",
    "    .withColumn('random_int', (F.rand()*strings_to_change_rand_int+1).cast(IntegerType())) \\\n",
    "    .groupBy('random_int').agg(F.collect_list(F.col('data_to_update')).alias('data_to_update')) \\\n",
    "    .repartition(80) \\\n",
    "    .withColumn('changes_done', process_block_affiliation_change(F.col('data_to_update')))\n",
    "\n",
    "strings_changed.cache().count()"
   ]
  },
  {
   "cell_type": "code",
   "execution_count": 0,
   "metadata": {
    "application/vnd.databricks.v1+cell": {
     "cellMetadata": {},
     "inputWidgets": {},
     "nuid": "dc1a84c6-128e-427c-92b5-89f35486328e",
     "showTitle": false,
     "tableResultSettingsMap": {},
     "title": ""
    }
   },
   "outputs": [],
   "source": [
    "current_date = datetime.datetime.now().strftime(\"%Y-%m-%d\")"
   ]
  },
  {
   "cell_type": "code",
   "execution_count": 0,
   "metadata": {
    "application/vnd.databricks.v1+cell": {
     "cellMetadata": {
      "byteLimit": 2048000,
      "rowLimit": 10000
     },
     "inputWidgets": {},
     "nuid": "e6b1d397-86e5-4829-8573-477b73ddf5af",
     "showTitle": false,
     "tableResultSettingsMap": {},
     "title": ""
    }
   },
   "outputs": [],
   "source": [
    "test_query = \\\n",
    "    f\"\"\"INSERT INTO queue.run_once_work_add_most_things(work_id, rand)\n",
    "    SELECT DISTINCT paper_id, random()\n",
    "    FROM mid.affiliatio\n",
    "    JOIN mid.affiliation_string_v2\n",
    "    ON mid.affiliation.original_affiliation = mid.affiliation_string_v2.original_affiliation\n",
    "    WHERE mid.affiliation_string_v2.updated>'{current_date} 00:00' ON CONFLICT DO NOTHING;\"\"\""
   ]
  },
  {
   "cell_type": "code",
   "execution_count": 0,
   "metadata": {
    "application/vnd.databricks.v1+cell": {
     "cellMetadata": {
      "byteLimit": 2048000,
      "rowLimit": 10000
     },
     "inputWidgets": {},
     "nuid": "2c2e7194-1975-424c-99c3-b9463928458b",
     "showTitle": false,
     "tableResultSettingsMap": {},
     "title": ""
    }
   },
   "outputs": [],
   "source": [
    "connection = connect_to_db()\n",
    "curs_update = connection.cursor()"
   ]
  },
  {
   "cell_type": "code",
   "execution_count": 0,
   "metadata": {
    "application/vnd.databricks.v1+cell": {
     "cellMetadata": {
      "byteLimit": 2048000,
      "rowLimit": 10000
     },
     "inputWidgets": {},
     "nuid": "28f8fe5a-a36a-4cab-9f03-a75b6b5cce3d",
     "showTitle": false,
     "tableResultSettingsMap": {},
     "title": ""
    }
   },
   "outputs": [],
   "source": [
    "try:\n",
    "    curs_update.execute(test_query)\n",
    "    connection.commit()\n",
    "except:\n",
    "    print(\"Error while updating row in PostgreSQL\")\n",
    "    connection.rollback()"
   ]
  },
  {
   "cell_type": "code",
   "execution_count": 0,
   "metadata": {
    "application/vnd.databricks.v1+cell": {
     "cellMetadata": {
      "byteLimit": 2048000,
      "rowLimit": 10000
     },
     "inputWidgets": {},
     "nuid": "8074f719-2207-416b-87f4-98ec2ca88bb4",
     "showTitle": false,
     "tableResultSettingsMap": {},
     "title": ""
    }
   },
   "outputs": [],
   "source": [
    "curs_update.execute(\"SELECT COUNT(*) FROM queue.run_once_work_add_most_things;\")\n",
    "results = curs_update.fetchone() \n",
    "print(results)"
   ]
  },
  {
   "cell_type": "code",
   "execution_count": 0,
   "metadata": {
    "application/vnd.databricks.v1+cell": {
     "cellMetadata": {
      "byteLimit": 2048000,
      "rowLimit": 10000
     },
     "inputWidgets": {},
     "nuid": "3a4ca23e-9246-49e0-8c42-f5d1b437c922",
     "showTitle": false,
     "tableResultSettingsMap": {},
     "title": ""
    }
   },
   "outputs": [],
   "source": [
    "curs_update.close()\n",
    "connection.close()"
   ]
  },
  {
   "cell_type": "code",
   "execution_count": 0,
   "metadata": {
    "application/vnd.databricks.v1+cell": {
     "cellMetadata": {},
     "inputWidgets": {},
     "nuid": "a6d26512-f5f5-4f2c-81e5-a920237c8966",
     "showTitle": false,
     "tableResultSettingsMap": {},
     "title": ""
    }
   },
   "outputs": [],
   "source": []
  }
 ],
 "metadata": {
  "application/vnd.databricks.v1+notebook": {
   "computePreferences": null,
   "dashboards": [],
   "environmentMetadata": null,
   "language": "python",
   "notebookMetadata": {
    "pythonIndentUnit": 4
   },
   "notebookName": "institution_parsing_string_matching",
   "widgets": {}
  },
  "language_info": {
   "name": "python"
  }
 },
 "nbformat": 4,
 "nbformat_minor": 0
}
